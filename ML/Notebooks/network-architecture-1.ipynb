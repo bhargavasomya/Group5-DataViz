{
 "cells": [
  {
   "cell_type": "markdown",
   "metadata": {},
   "source": [
    "# Quora question pairs: training"
   ]
  },
  {
   "cell_type": "markdown",
   "metadata": {},
   "source": [
    "## Import packages"
   ]
  },
  {
   "cell_type": "code",
   "execution_count": 31,
   "metadata": {},
   "outputs": [],
   "source": [
    "%matplotlib inline\n",
    "from __future__ import print_function\n",
    "import numpy as np\n",
    "import pandas as pd\n",
    "import datetime, time, json\n",
    "from keras.models import Model\n",
    "from keras.layers import Input, TimeDistributed, Dense, Lambda, concatenate, Dropout, BatchNormalization\n",
    "from keras.layers.embeddings import Embedding\n",
    "from keras.regularizers import l2\n",
    "from keras.callbacks import Callback, ModelCheckpoint\n",
    "from keras import backend as K\n",
    "from sklearn.model_selection import train_test_split"
   ]
  },
  {
   "cell_type": "markdown",
   "metadata": {},
   "source": [
    "## Initialize global variables"
   ]
  },
  {
   "cell_type": "code",
   "execution_count": 56,
   "metadata": {},
   "outputs": [],
   "source": [
    "MAX_SEQUENCE_LENGTH = 25\n",
    "EMBEDDING_DIM = 300\n",
    "NB_EPOCHS = 25\n",
    "DROPOUT = 0.1\n",
    "BATCH_SIZE = 32"
   ]
  },
  {
   "cell_type": "markdown",
   "metadata": {},
   "source": [
    "## Load the dataset, embedding matrix "
   ]
  },
  {
   "cell_type": "code",
   "execution_count": 49,
   "metadata": {},
   "outputs": [],
   "source": [
    "q1_data = np.load(open('q1_train.npy', 'rb'))\n",
    "q2_data = np.load(open('q2_train.npy', 'rb'))\n",
    "labels = np.load(open('label_train.npy', 'rb'))\n",
    "word_embedding_matrix = np.load(open('word_embedding_matrix.npy', 'rb'))\n",
    "with open('nb_words.json', 'r') as f:\n",
    "    nb_words = json.load(f)['nb_words']"
   ]
  },
  {
   "cell_type": "code",
   "execution_count": 52,
   "metadata": {},
   "outputs": [
    {
     "data": {
      "text/plain": [
       "96493"
      ]
     },
     "execution_count": 52,
     "metadata": {},
     "output_type": "execute_result"
    }
   ],
   "source": [
    "word_embedding_matrix.shape[0]"
   ]
  },
  {
   "cell_type": "markdown",
   "metadata": {},
   "source": [
    "## Partition the dataset into train and test sets"
   ]
  },
  {
   "cell_type": "code",
   "execution_count": 34,
   "metadata": {},
   "outputs": [],
   "source": [
    "X = np.stack((q1_data, q2_data), axis=1)\n",
    "y = labels\n",
    "X_train, X_test, y_train, y_test = train_test_split(X, y, test_size=0.2, random_state=1)\n",
    "Q1_train = X_train[:,0]\n",
    "Q2_train = X_train[:,1]\n",
    "Q1_test = X_test[:,0]\n",
    "Q2_test = X_test[:,1]"
   ]
  },
  {
   "cell_type": "markdown",
   "metadata": {},
   "source": [
    "## Define the model"
   ]
  },
  {
   "cell_type": "code",
   "execution_count": 53,
   "metadata": {},
   "outputs": [],
   "source": [
    "question1 = Input(shape=(25,))\n",
    "question2 = Input(shape=(25,))\n",
    "\n",
    "#create embedding using pre-trained GLOVE vectors\n",
    "\n",
    "embedding_layer = Embedding(word_embedding_matrix.shape[0],\n",
    "                            EMBEDDING_DIM,\n",
    "                            weights=[word_embedding_matrix],\n",
    "                            input_length=25,\n",
    "                            trainable=False)\n",
    "\n",
    "#create time distributed embedding for question 1 and question 2\n",
    "embedded_sequences_1 = embedding_layer(question1)\n",
    "time_distributed_1 = TimeDistributed(Dense(EMBEDDING_DIM, activation='relu'))(embedded_sequences_1)\n",
    "q1_time_dist = Lambda(lambda x: K.max(x, axis=1), output_shape=(EMBEDDING_DIM, ))(time_distributed_1)\n",
    "\n",
    "\n",
    "embedded_sequences_2 = embedding_layer(question2)\n",
    "time_distributed_2 = TimeDistributed(Dense(EMBEDDING_DIM, activation='relu'))(embedded_sequences_2)\n",
    "q2_time_dist = Lambda(lambda x: K.max(x, axis=1), output_shape=(EMBEDDING_DIM, ))(time_distributed_2)\n",
    "\n",
    "#Concatenate the representations for question 1 and 2\n",
    "concatenated = concatenate([q1_time_dist,q2_time_dist])\n",
    "\n",
    "#dense layer 1\n",
    "merged = Dense(200, activation='relu')(concatenated)\n",
    "#to avoid overfitting\n",
    "merged = Dropout(DROPOUT)(merged)\n",
    "merged = BatchNormalization()(merged)\n",
    "\n",
    "#dense layer 2\n",
    "merged = Dense(200, activation='relu')(merged)\n",
    "#to avoid overfitting\n",
    "merged = Dropout(DROPOUT)(merged)\n",
    "merged = BatchNormalization()(merged)\n",
    "\n",
    "#dense layer 3\n",
    "merged = Dense(200, activation='relu')(merged)\n",
    "#to avoid overfitting\n",
    "merged = Dropout(DROPOUT)(merged)\n",
    "merged = BatchNormalization()(merged)\n",
    "\n",
    "#dense layer 4\n",
    "merged = Dense(200, activation='relu')(merged)\n",
    "#to avoid overfitting\n",
    "merged = Dropout(DROPOUT)(merged)\n",
    "merged = BatchNormalization()(merged)\n",
    "\n",
    "#final prediction using sigmoid activation\n",
    "final_label = Dense(1, activation='sigmoid')(merged)\n",
    "\n",
    "model = Model(inputs=[question1,question2], outputs=final_label)\n",
    "model.compile(loss='binary_crossentropy', optimizer='adam', metrics=['accuracy'])"
   ]
  },
  {
   "cell_type": "code",
   "execution_count": 45,
   "metadata": {},
   "outputs": [
    {
     "name": "stdout",
     "output_type": "stream",
     "text": [
      "__________________________________________________________________________________________________\n",
      "Layer (type)                    Output Shape         Param #     Connected to                     \n",
      "==================================================================================================\n",
      "input_3 (InputLayer)            (None, 25)           0                                            \n",
      "__________________________________________________________________________________________________\n",
      "input_4 (InputLayer)            (None, 25)           0                                            \n",
      "__________________________________________________________________________________________________\n",
      "embedding_3 (Embedding)         (None, 25, 300)      28947900    input_3[0][0]                    \n",
      "__________________________________________________________________________________________________\n",
      "embedding_4 (Embedding)         (None, 25, 300)      28947900    input_4[0][0]                    \n",
      "__________________________________________________________________________________________________\n",
      "time_distributed_3 (TimeDistrib (None, 25, 300)      90300       embedding_3[0][0]                \n",
      "__________________________________________________________________________________________________\n",
      "time_distributed_4 (TimeDistrib (None, 25, 300)      90300       embedding_4[0][0]                \n",
      "__________________________________________________________________________________________________\n",
      "lambda_3 (Lambda)               (None, 300)          0           time_distributed_3[0][0]         \n",
      "__________________________________________________________________________________________________\n",
      "lambda_4 (Lambda)               (None, 300)          0           time_distributed_4[0][0]         \n",
      "__________________________________________________________________________________________________\n",
      "concatenate_2 (Concatenate)     (None, 600)          0           lambda_3[0][0]                   \n",
      "                                                                 lambda_4[0][0]                   \n",
      "__________________________________________________________________________________________________\n",
      "dense_10 (Dense)                (None, 200)          120200      concatenate_2[0][0]              \n",
      "__________________________________________________________________________________________________\n",
      "dropout_5 (Dropout)             (None, 200)          0           dense_10[0][0]                   \n",
      "__________________________________________________________________________________________________\n",
      "batch_normalization_5 (BatchNor (None, 200)          800         dropout_5[0][0]                  \n",
      "__________________________________________________________________________________________________\n",
      "dense_11 (Dense)                (None, 200)          40200       batch_normalization_5[0][0]      \n",
      "__________________________________________________________________________________________________\n",
      "dropout_6 (Dropout)             (None, 200)          0           dense_11[0][0]                   \n",
      "__________________________________________________________________________________________________\n",
      "batch_normalization_6 (BatchNor (None, 200)          800         dropout_6[0][0]                  \n",
      "__________________________________________________________________________________________________\n",
      "dense_12 (Dense)                (None, 200)          40200       batch_normalization_6[0][0]      \n",
      "__________________________________________________________________________________________________\n",
      "dropout_7 (Dropout)             (None, 200)          0           dense_12[0][0]                   \n",
      "__________________________________________________________________________________________________\n",
      "batch_normalization_7 (BatchNor (None, 200)          800         dropout_7[0][0]                  \n",
      "__________________________________________________________________________________________________\n",
      "dense_13 (Dense)                (None, 200)          40200       batch_normalization_7[0][0]      \n",
      "__________________________________________________________________________________________________\n",
      "dropout_8 (Dropout)             (None, 200)          0           dense_13[0][0]                   \n",
      "__________________________________________________________________________________________________\n",
      "batch_normalization_8 (BatchNor (None, 200)          800         dropout_8[0][0]                  \n",
      "__________________________________________________________________________________________________\n",
      "dense_14 (Dense)                (None, 1)            201         batch_normalization_8[0][0]      \n",
      "==================================================================================================\n",
      "Total params: 58,320,601\n",
      "Trainable params: 423,201\n",
      "Non-trainable params: 57,897,400\n",
      "__________________________________________________________________________________________________\n"
     ]
    }
   ],
   "source": [
    "model.summary()"
   ]
  },
  {
   "cell_type": "markdown",
   "metadata": {},
   "source": [
    "## Train the model, checkpointing weights with best validation accuracy"
   ]
  },
  {
   "cell_type": "code",
   "execution_count": 38,
   "metadata": {},
   "outputs": [
    {
     "name": "stdout",
     "output_type": "stream",
     "text": [
      "Train on 258743 samples, validate on 64686 samples\n",
      "Epoch 1/25\n",
      " - 234s - loss: 0.5399 - acc: 0.7261 - val_loss: 0.5342 - val_acc: 0.7380\n",
      "Epoch 2/25\n",
      " - 231s - loss: 0.4956 - acc: 0.7573 - val_loss: 0.4781 - val_acc: 0.7679\n",
      "Epoch 3/25\n",
      " - 235s - loss: 0.4720 - acc: 0.7720 - val_loss: 0.4681 - val_acc: 0.7707\n",
      "Epoch 4/25\n",
      " - 233s - loss: 0.4484 - acc: 0.7865 - val_loss: 0.4577 - val_acc: 0.7781\n",
      "Epoch 5/25\n",
      " - 229s - loss: 0.4295 - acc: 0.7985 - val_loss: 0.4496 - val_acc: 0.7888\n",
      "Epoch 6/25\n",
      " - 236s - loss: 0.4133 - acc: 0.8079 - val_loss: 0.4372 - val_acc: 0.7905\n",
      "Epoch 7/25\n",
      " - 235s - loss: 0.3954 - acc: 0.8182 - val_loss: 0.4316 - val_acc: 0.7947\n",
      "Epoch 8/25\n",
      " - 233s - loss: 0.3803 - acc: 0.8276 - val_loss: 0.4355 - val_acc: 0.7940\n",
      "Epoch 9/25\n",
      " - 231s - loss: 0.3718 - acc: 0.8318 - val_loss: 0.4799 - val_acc: 0.7608\n",
      "Epoch 10/25\n",
      " - 227s - loss: 0.3573 - acc: 0.8401 - val_loss: 0.4249 - val_acc: 0.7985\n",
      "Epoch 11/25\n",
      " - 240s - loss: 0.3457 - acc: 0.8464 - val_loss: 0.4230 - val_acc: 0.8014\n",
      "Epoch 12/25\n",
      " - 238s - loss: 0.3370 - acc: 0.8511 - val_loss: 0.4330 - val_acc: 0.7987\n",
      "Epoch 13/25\n",
      " - 237s - loss: 0.3287 - acc: 0.8561 - val_loss: 0.4374 - val_acc: 0.7979\n",
      "Epoch 14/25\n",
      " - 237s - loss: 0.3180 - acc: 0.8613 - val_loss: 0.4376 - val_acc: 0.7905\n",
      "Epoch 15/25\n",
      " - 229s - loss: 0.3093 - acc: 0.8666 - val_loss: 0.4296 - val_acc: 0.7999\n",
      "Epoch 16/25\n",
      " - 231s - loss: 0.3012 - acc: 0.8692 - val_loss: 0.4302 - val_acc: 0.8009\n",
      "Epoch 17/25\n",
      " - 232s - loss: 0.2932 - acc: 0.8741 - val_loss: 0.4286 - val_acc: 0.8013\n",
      "Epoch 18/25\n",
      " - 235s - loss: 0.2864 - acc: 0.8774 - val_loss: 0.4324 - val_acc: 0.7990\n",
      "Epoch 19/25\n",
      " - 215s - loss: 0.2862 - acc: 0.8763 - val_loss: 0.4421 - val_acc: 0.7987\n",
      "Epoch 20/25\n",
      " - 220s - loss: 0.2829 - acc: 0.8786 - val_loss: 0.4619 - val_acc: 0.7975\n",
      "Epoch 21/25\n",
      " - 235s - loss: 0.2734 - acc: 0.8823 - val_loss: 0.4530 - val_acc: 0.8004\n",
      "Epoch 22/25\n",
      " - 176s - loss: 0.2672 - acc: 0.8863 - val_loss: 0.4418 - val_acc: 0.8004\n",
      "Epoch 23/25\n",
      " - 162s - loss: 0.2661 - acc: 0.8862 - val_loss: 0.4650 - val_acc: 0.7948\n",
      "Epoch 24/25\n",
      " - 170s - loss: 0.2592 - acc: 0.8901 - val_loss: 0.4887 - val_acc: 0.7912\n",
      "Epoch 25/25\n",
      " - 184s - loss: 0.2561 - acc: 0.8919 - val_loss: 0.4439 - val_acc: 0.7972\n",
      "Minutes elapsed: 93.208202\n"
     ]
    }
   ],
   "source": [
    "print(\"Starting training at\", datetime.datetime.now())\n",
    "t0 = time.time()\n",
    "\n",
    "#callback to store the best weights\n",
    "callbacks = [ModelCheckpoint('question_pairs_weights_network1.h5', monitor='val_acc', save_best_only=True)]\n",
    "\n",
    "history = model.fit([Q1_train, Q2_train],\n",
    "                    y_train,\n",
    "                    epochs=NB_EPOCHS,\n",
    "                    validation_split=0.2,\n",
    "                    verbose=2,\n",
    "                    batch_size=32,\n",
    "                    callbacks=callbacks)\n",
    "t1 = time.time()\n",
    "print(\"Training ended at\", datetime.datetime.now())\n",
    "print(\"Minutes elapsed: %f\" % ((t1 - t0) / 60.))"
   ]
  },
  {
   "cell_type": "markdown",
   "metadata": {},
   "source": [
    "## Plot training and validation accuracy"
   ]
  },
  {
   "cell_type": "code",
   "execution_count": 39,
   "metadata": {},
   "outputs": [
    {
     "data": {
      "text/plain": [
       "<matplotlib.legend.Legend at 0x26a0276c320>"
      ]
     },
     "execution_count": 39,
     "metadata": {},
     "output_type": "execute_result"
    },
    {
     "data": {
      "image/png": "[encoded data removed]",
      "text/plain": [
       "<Figure size 432x288 with 1 Axes>"
      ]
     },
     "metadata": {},
     "output_type": "display_data"
    }
   ],
   "source": [
    "import matplotlib.pyplot as plt\n",
    "# Data\n",
    "df=pd.DataFrame({'x': range(1,11), 'y1': np.random.randn(10), 'y2': np.random.randn(10)+range(1,11), 'y3': np.random.randn(10)+range(11,21) })\n",
    "acc = pd.DataFrame({'epoch': [ i + 1 for i in history.epoch ],\n",
    "                    'training': history.history['acc'],\n",
    "                    'validation': history.history['val_acc']}) \n",
    "# multiple line plot\n",
    "ax= plt.plot( 'epoch', 'training', data=acc,markersize=12, color='steelblue', linewidth=1)\n",
    "ax= plt.plot( 'epoch', 'validation', data=acc,markersize=12, color='red', linewidth=1)\n",
    "\n",
    "plt.legend()"
   ]
  },
  {
   "cell_type": "code",
   "execution_count": 40,
   "metadata": {},
   "outputs": [
    {
     "name": "stdout",
     "output_type": "stream",
     "text": [
      "Maximum accuracy at epoch 11 = 0.8014\n"
     ]
    }
   ],
   "source": [
    "max_val_acc, idx = max((val, idx) for (idx, val) in enumerate(history.history['val_acc']))\n",
    "print('Maximum accuracy at epoch', '{:d}'.format(idx+1), '=', '{:.4f}'.format(max_val_acc))"
   ]
  },
  {
   "cell_type": "markdown",
   "metadata": {},
   "source": [
    "## Evaluate the model on the test partition"
   ]
  },
  {
   "cell_type": "code",
   "execution_count": 41,
   "metadata": {},
   "outputs": [
    {
     "name": "stdout",
     "output_type": "stream",
     "text": [
      "loss = 0.4243, accuracy = 0.7998\n"
     ]
    }
   ],
   "source": [
    "model.load_weights(model_weights)\n",
    "loss, accuracy = model.evaluate([Q1_test, Q2_test], y_test, verbose=0)\n",
    "print('loss = {0:.4f}, accuracy = {1:.4f}'.format(loss, accuracy))"
   ]
  },
  {
   "cell_type": "markdown",
   "metadata": {},
   "source": [
    "## Calculating AUC-ROC"
   ]
  },
  {
   "cell_type": "code",
   "execution_count": 42,
   "metadata": {},
   "outputs": [],
   "source": [
    "from sklearn.metrics import roc_auc_score,roc_curve\n",
    "import matplotlib.pyplot as plt\n",
    "pred_label = model.predict([Q1_test, Q2_test], verbose=0)\n"
   ]
  },
  {
   "cell_type": "code",
   "execution_count": 43,
   "metadata": {},
   "outputs": [
    {
     "data": {
      "image/png": "[encoded data removed]",
      "text/plain": [
       "<Figure size 432x288 with 1 Axes>"
      ]
     },
     "metadata": {},
     "output_type": "display_data"
    },
    {
     "name": "stdout",
     "output_type": "stream",
     "text": [
      "AUC score is =  0.8773550629508204\n"
     ]
    }
   ],
   "source": [
    "\n",
    "fpr, tpr, _ = roc_curve(y_test,  pred_label)\n",
    "auc = roc_auc_score(y_test, pred_label)\n",
    "plt.plot(fpr,tpr,label=\"data 1, auc=\"+str(auc))\n",
    "plt.legend(loc=4)\n",
    "plt.show()\n",
    "print('AUC score is = ', auc)"
   ]
  },
  {
   "cell_type": "markdown",
   "metadata": {},
   "source": [
    "## Testing individual sentences"
   ]
  },
  {
   "cell_type": "markdown",
   "metadata": {},
   "source": [
    "### Use this section as a server for the Web Application"
   ]
  },
  {
   "cell_type": "code",
   "execution_count": 1,
   "metadata": {},
   "outputs": [
    {
     "name": "stderr",
     "output_type": "stream",
     "text": [
      "Using TensorFlow backend.\n"
     ]
    }
   ],
   "source": [
    "%matplotlib inline\n",
    "from __future__ import print_function\n",
    "import numpy as np\n",
    "import pandas as pd\n",
    "import json\n",
    "from keras.models import Model\n",
    "from keras.layers import Input, TimeDistributed, dot, Dense, Lambda, Flatten, concatenate, Dropout, BatchNormalization\n",
    "from keras.layers.embeddings import Embedding\n",
    "from keras.regularizers import l2\n",
    "from keras.callbacks import Callback, ModelCheckpoint\n",
    "from keras import backend as K\n",
    "import keras\n",
    "from sklearn.model_selection import train_test_split\n",
    "from keras.preprocessing.sequence import pad_sequences\n",
    "import pickle"
   ]
  },
  {
   "cell_type": "code",
   "execution_count": 2,
   "metadata": {},
   "outputs": [],
   "source": [
    "MAX_SEQUENCE_LENGTH = 25\n",
    "EMBEDDING_DIM = 300\n",
    "NB_EPOCHS = 25\n",
    "DROPOUT = 0.1\n",
    "BATCH_SIZE = 32\n",
    "\n",
    "with open('nb_words.json', 'r') as f:\n",
    "    nb_words = json.load(f)['nb_words']\n",
    "    \n",
    "word_embedding_matrix = np.load(open('word_embedding_matrix.npy', 'rb'))\n",
    "\n",
    "with open('word_index.pickle', 'rb') as handle:\n",
    "    word_indices = pickle.load(handle)"
   ]
  },
  {
   "cell_type": "code",
   "execution_count": 57,
   "metadata": {},
   "outputs": [],
   "source": [
    "question1 = Input(shape=(25,))\n",
    "question2 = Input(shape=(25,))\n",
    "\n",
    "#create embedding using pre-trained GLOVE vectors\n",
    "\n",
    "embedding_layer = Embedding(word_embedding_matrix.shape[0],\n",
    "                            EMBEDDING_DIM,\n",
    "                            weights=[word_embedding_matrix],\n",
    "                            input_length=25,\n",
    "                            trainable=False)\n",
    "\n",
    "#create time distributed embedding for question 1 and question 2\n",
    "embedded_sequences_1 = embedding_layer(question1)\n",
    "time_distributed_1 = TimeDistributed(Dense(EMBEDDING_DIM, activation='relu'))(embedded_sequences_1)\n",
    "q1_time_dist = Lambda(lambda x: K.max(x, axis=1), output_shape=(EMBEDDING_DIM, ))(time_distributed_1)\n",
    "\n",
    "\n",
    "embedded_sequences_2 = embedding_layer(question2)\n",
    "time_distributed_2 = TimeDistributed(Dense(EMBEDDING_DIM, activation='relu'))(embedded_sequences_2)\n",
    "q2_time_dist = Lambda(lambda x: K.max(x, axis=1), output_shape=(EMBEDDING_DIM, ))(time_distributed_2)\n",
    "\n",
    "#Concatenate the representations for question 1 and 2\n",
    "concatenated = concatenate([q1_time_dist,q2_time_dist])\n",
    "\n",
    "#dense layer 1\n",
    "merged = Dense(200, activation='relu')(concatenated)\n",
    "#to avoid overfitting\n",
    "merged = Dropout(DROPOUT)(merged)\n",
    "merged = BatchNormalization()(merged)\n",
    "\n",
    "#dense layer 2\n",
    "merged = Dense(200, activation='relu')(merged)\n",
    "#to avoid overfitting\n",
    "merged = Dropout(DROPOUT)(merged)\n",
    "merged = BatchNormalization()(merged)\n",
    "\n",
    "#dense layer 3\n",
    "merged = Dense(200, activation='relu')(merged)\n",
    "#to avoid overfitting\n",
    "merged = Dropout(DROPOUT)(merged)\n",
    "merged = BatchNormalization()(merged)\n",
    "\n",
    "#dense layer 4\n",
    "merged = Dense(200, activation='relu')(merged)\n",
    "#to avoid overfitting\n",
    "merged = Dropout(DROPOUT)(merged)\n",
    "merged = BatchNormalization()(merged)\n",
    "\n",
    "#final prediction using sigmoid activation\n",
    "final_label = Dense(1, activation='sigmoid')(merged)\n",
    "\n",
    "model = Model(inputs=[question1,question2], outputs=final_label)\n",
    "model.compile(loss='binary_crossentropy', optimizer='adam', metrics=['accuracy'])"
   ]
  },
  {
   "cell_type": "code",
   "execution_count": 13,
   "metadata": {},
   "outputs": [
    {
     "name": "stdout",
     "output_type": "stream",
     "text": [
      "loss = 0.2763, accuracy = 0.8881\n"
     ]
    }
   ],
   "source": [
    "model.load_weights('question_pairs_weights_network1.h5')\n",
    "loss, accuracy = model.evaluate([Q1_test, Q2_test], y_test, verbose=0)\n",
    "print('loss = {0:.4f}, accuracy = {1:.4f}'.format(loss, accuracy))"
   ]
  },
  {
   "cell_type": "code",
   "execution_count": 5,
   "metadata": {},
   "outputs": [],
   "source": [
    "def word2vec(question):\n",
    "    word_seq = keras.preprocessing.text.text_to_word_sequence(question)\n",
    "    \n",
    "    vec_sequence = [word_indices[w] for w in word_seq]\n",
    "    \n",
    "    vec_sequence = pad_sequences([vec_sequence], maxlen= 25)\n",
    "    return vec_sequence\n",
    " "
   ]
  },
  {
   "cell_type": "code",
   "execution_count": 15,
   "metadata": {},
   "outputs": [
    {
     "data": {
      "text/plain": [
       "array([[   0,    0,    0,    0,    0,    0,    0,    0,    0,    0,    0,\n",
       "           0,    0,    0,    0,    0,    0,    0,    0, 3840,    1, 3016,\n",
       "        1244,    3, 4481]])"
      ]
     },
     "execution_count": 15,
     "metadata": {},
     "output_type": "execute_result"
    }
   ],
   "source": [
    "word2vec(question1)"
   ]
  },
  {
   "cell_type": "code",
   "execution_count": 58,
   "metadata": {},
   "outputs": [
    {
     "data": {
      "text/plain": [
       "array([[1.26313635e-05]], dtype=float32)"
      ]
     },
     "execution_count": 58,
     "metadata": {},
     "output_type": "execute_result"
    }
   ],
   "source": [
    "question1 = 'How are the two wheeler insurance from Bharti Axa insurance?'\n",
    "question2 = 'Why did Microsoft choose core m3 and not core i3 home Surface Pro 4?'\n",
    "\n",
    "model.load_weights(model_weights)\n",
    "predictions = model.predict([word2vec(question1), word2vec(question2)], verbose=0)\n",
    "\n",
    "predictions"
   ]
  },
  {
   "cell_type": "code",
   "execution_count": 44,
   "metadata": {},
   "outputs": [],
   "source": [
    "names = np.append(train['question1'],train['question2'])"
   ]
  },
  {
   "cell_type": "code",
   "execution_count": 56,
   "metadata": {},
   "outputs": [
    {
     "data": {
      "text/plain": [
       "404287"
      ]
     },
     "execution_count": 56,
     "metadata": {},
     "output_type": "execute_result"
    }
   ],
   "source": [
    "len(q1_data)"
   ]
  },
  {
   "cell_type": "code",
   "execution_count": 57,
   "metadata": {},
   "outputs": [
    {
     "data": {
      "text/plain": [
       "808580"
      ]
     },
     "execution_count": 57,
     "metadata": {},
     "output_type": "execute_result"
    }
   ],
   "source": [
    "len(names)"
   ]
  },
  {
   "cell_type": "code",
   "execution_count": 81,
   "metadata": {
    "scrolled": true
   },
   "outputs": [
    {
     "name": "stdout",
     "output_type": "stream",
     "text": [
      "[[0.965684]]\n",
      "Which is best mobile under 15000?\n",
      "[[0.9717353]]\n",
      "Have the Ancient Mayans been scientifically tested?\n",
      "[[0.9717353]]\n",
      "Have the Ancient Mayans been scientifically tested?\n",
      "[[0.97535783]]\n",
      "Is modi government doing anything to remove caste based reservation?\n",
      "[[1.]]\n",
      "Are leopons real?\n",
      "[[0.9519369]]\n",
      "How can Modi government prevent black money by discontinuing 500 and 1000 notes?\n",
      "[[0.9634354]]\n",
      "How can black money brought out by discontinuing 500 and 1000 notes?\n",
      "[[0.9634354]]\n",
      "How can black money brought out by discontinuing 500 and 1000 notes?\n",
      "[[0.95183605]]\n",
      "How can we remove reservation from the Indian constitution?\n",
      "[[0.96757495]]\n",
      "How do I know who viewed my WhatsApp display pic?\n",
      "[[0.9717353]]\n",
      "Have the Ancient Mayans been scientifically tested?\n",
      "[[0.9504208]]\n",
      "What are the best smartphones under 15000?\n",
      "[[0.9751672]]\n",
      "Have the Ancient Anasazi been scientifically tested?\n",
      "[[0.9578092]]\n",
      "What is an isotonic solution? What are some examples?\n",
      "[[0.9751672]]\n",
      "Have the Ancient Anasazi been scientifically tested?\n",
      "[[0.9602605]]\n",
      "Has Ancient Mesopotamia been scientifically tested?\n",
      "[[0.95762736]]\n",
      "What could be the reason behind Arnab Goswami quitting Times Now?\n",
      "[[0.9504208]]\n",
      "What are the best smartphones under 15000?\n",
      "[[0.95641184]]\n",
      "Wat happens when a unstoppable force meets with an unmovable object?\n",
      "[[0.9717353]]\n",
      "Have the Ancient Mayans been scientifically tested?\n",
      "[[0.9751672]]\n",
      "Have the Ancient Anasazi been scientifically tested?\n",
      "[[0.9561309]]\n",
      "Whst is ehos?\n",
      "[[0.9519369]]\n",
      "How can Modi government prevent black money by discontinuing 500 and 1000 notes?\n",
      "[[0.9717353]]\n",
      "Have the Ancient Mayans been scientifically tested?\n",
      "[[0.9751672]]\n",
      "Have the Ancient Anasazi been scientifically tested?\n",
      "[[0.9602605]]\n",
      "Has Ancient Mesopotamia been scientifically tested?\n",
      "[[0.9634354]]\n",
      "How can black money brought out by discontinuing 500 and 1000 notes?\n",
      "[[0.9519369]]\n",
      "How can Modi government prevent black money by discontinuing 500 and 1000 notes?\n",
      "[[0.96736854]]\n",
      "Has Ancient Babylon been scientifically tested?\n",
      "[[0.97535783]]\n",
      "Is modi government doing anything to remove caste based reservation?\n",
      "[[0.9542979]]\n",
      "Which is the best laptop below Rs 30000?\n",
      "[[0.9751672]]\n",
      "Have the Ancient Anasazi been scientifically tested?\n",
      "[[0.9602605]]\n",
      "Has Ancient Mesopotamia been scientifically tested?\n",
      "[[0.95775276]]\n",
      "Which is the best laptop to buy under 15000?\n",
      "[[0.9561309]]\n",
      "Is?\n",
      "[[0.99999917]]\n",
      "Is Modi's demonetisation failing?\n",
      "[[0.9751672]]\n",
      "Have the Ancient Anasazi been scientifically tested?\n",
      "[[0.9519369]]\n",
      "How can Modi government prevent black money by discontinuing 500 and 1000 notes?\n",
      "[[1.]]\n",
      "Is a queef real?\n",
      "[[0.9519369]]\n",
      "How can Modi government prevent black money by discontinuing 500 and 1000 notes?\n",
      "[[0.9621485]]\n",
      "Which is the best mobile under 15000\n",
      "[[0.96736854]]\n",
      "Has Ancient Babylon been scientifically tested?\n",
      "[[0.96757495]]\n",
      "How safe is Papua New Guinea, and how does it's crime rate compare to Antigua and Barbuda's?\n",
      "[[0.9793372]]\n",
      "Is it safe to lose 70 pounds in 6 months and how?\n",
      "[[0.95762736]]\n",
      "Which one is the best, Linux Mint or Ubuntu?\n",
      "[[0.9519369]]\n",
      "Where can I find a website to watch movies with English subtitles?\n",
      "[[0.9519369]]\n",
      "What would be the best way to learn Japanese by yourself?\n",
      "[[0.9542979]]\n",
      "Which came first hen or egg and why?\n",
      "[[0.9793372]]\n",
      "What can be the study plan to crack CAT if we start from August?\n",
      "[[0.9566722]]\n",
      "Where can I get Kaththi English subtitles?\n",
      "[[0.9634354]]\n",
      "Which is more logical to follow—your heart or your head?\n",
      "[[0.965684]]\n",
      "Why do people drink beer/whisky even though it tastes very bitter?\n",
      "[[0.9634354]]\n",
      "How good are questions on Quora?\n",
      "[[0.96736854]]\n",
      "How is microeconomics similar to macroeconomics?\n",
      "[[0.9751672]]\n",
      "What are some examples of a genotype in biology?\n",
      "[[0.9602605]]\n",
      "How do we know that a Banksy piece is actually made by him?\n",
      "[[0.9602605]]\n",
      "What are the best websites in online jobs?\n",
      "[[0.9602605]]\n",
      "Plumbing: Where do most clogs occur in house drains?\n",
      "[[1.]]\n",
      "What are some things new employees should know going into their first day at Quaker Chemical?\n",
      "[[0.965684]]\n",
      "How are valleys formed?\n",
      "[[0.96736854]]\n",
      "What are some fun jobs for teens over summer?\n",
      "[[0.98159385]]\n",
      "If you report a comment on Facebook and message the user, is the message anonymous?\n",
      "[[0.965684]]\n",
      "What are home remedy for erectile dysfunction?\n",
      "[[0.9634354]]\n",
      "Could someone convert to Judaism who doesn't believe in God and then become a Jewish atheist or is that just for people born Jewish?\n",
      "[[0.9717353]]\n",
      "What are some things Mormons don't do?\n",
      "[[0.95762736]]\n",
      "What's the difference between computer engineering and computer science?\n",
      "[[0.9586052]]\n",
      "When stopped in traffic whilst driving a car with automatic transmission, does selecting drive and applying the parking brake significantly damage either the parking brake or the transmissin?\n",
      "[[0.9602605]]\n",
      "What universities does NN recruit new grads from? What majors are they looking for?\n",
      "[[0.9585758]]\n",
      "If science were a religion, what would its commandments be?\n",
      "[[0.9519369]]\n",
      "If you are a brand like Nike and sell shoes at wholesale into stores like footlocker, when do you recognize revenue, when shipped or when sold?\n",
      "[[0.9602605]]\n",
      "How do I find/ ask someone to become a mentor?\n",
      "[[0.9519369]]\n",
      "Why do people support Hillary Clinton even though she takes money from corporations?\n",
      "[[0.95762736]]\n",
      "How did Trump win America's vote?\n",
      "[[0.95641184]]\n",
      "What are the best custom essay writing service that can be used for academic task?\n",
      "[[0.9519369]]\n",
      "How can I determine when to use had, have, had been etc?\n",
      "[[0.9621485]]\n",
      "Why do some people get angry?\n",
      "[[0.9717353]]\n",
      "Why do MOST muslims believe that hindus will go to hell?\n",
      "[[0.9519369]]\n",
      "What are tips and hacks for new ride-sharing drivers in Tampa?\n",
      "[[0.9717353]]\n",
      "What will be the repercussions of banning Rs 500 and Rs 1000 notes on Indian economy?\n",
      "[[0.98209]]\n",
      "Why is Passion of The Christ considered anti-semitic?\n",
      "[[0.9717353]]\n",
      "How do I reduce belly and chest fat?\n",
      "[[0.965684]]\n",
      "Why can't I get shocked while welding when a huge ampere current flows through our body and I touch the electro rod with my naked hand?\n",
      "[[0.9621485]]\n",
      "How much money per hour do Uber drivers make in Gary, IN? What's the most a person can reasonably make per month?\n",
      "[[0.9581686]]\n",
      "How did you make money on Facebook?\n",
      "[[0.9751672]]\n",
      "Would Hillary get women's vote just because she's a female?\n",
      "[[0.9717353]]\n",
      "What are some unique wishes that people would wish for on their anniversary? Do they wish for eternal love, superpowers, youth, etc.?\n",
      "[[0.9584449]]\n",
      "Is a heart rate of 110 beats per minute healthy for someone who is at rest?\n",
      "[[0.95725846]]\n",
      "After a tubal ligation, how do you menstruate?\n",
      "[[0.9519369]]\n",
      "How the way to speak english fluently?\n",
      "[[0.9717353]]\n",
      "How much investment would I need to start a car wrapping shop/business?\n",
      "[[0.9634354]]\n",
      "How can I format my memory card using cmd?\n",
      "[[0.96736854]]\n",
      "What is the best method to reduce dandruff?\n",
      "[[0.96736854]]\n",
      "Can I use Chromecast to see Udemy videos from their app?\n",
      "[[0.9602605]]\n",
      "How many websites are on the internet?\n",
      "[[0.9751672]]\n",
      "What is a good solar panel installation provider near Agoura, California CA?\n",
      "[[0.95762736]]\n",
      "Which is a good solar panel installation provider near Millbrae, California CA?\n",
      "[[0.95641184]]\n",
      "Are you Married?\n",
      "[[0.9542979]]\n",
      "What is the best three-day itinerary for Singapore?\n",
      "[[0.9542979]]\n",
      "How do I find someone on Quora?\n",
      "[[0.95762736]]\n",
      "What language is used in Visual Basic? How does it compare to SQL?\n",
      "[[0.98209]]\n",
      "Would you ever date someone you met online?\n",
      "[[0.9751672]]\n",
      "What financial instrument is most profitable to trade?\n",
      "[[0.95762736]]\n",
      "Why do I love someone who does not love me?\n",
      "[[0.9717353]]\n",
      "How do I get credit card for myself?\n",
      "[[0.9751672]]\n",
      "How can I improve in English?\n",
      "[[1.]]\n",
      "Security trading process?\n",
      "[[0.96723133]]\n",
      "How does one deal with being backstabbed by a hypocrite ?\n",
      "[[1.]]\n",
      "What is the second derivative of y = 3x−1 if x=2?\n",
      "[[0.95762736]]\n",
      "What cheap temporary housing options are available for a single Singaporean?\n",
      "[[0.9542979]]\n",
      "How does a non religious Arab man act when he likes a woman?\n",
      "[[0.99018097]]\n",
      "Is it bad to eat raw cookie dough?\n",
      "[[0.9717353]]\n",
      "If someone kills an unborn baby, is that murder?\n",
      "[[0.97041065]]\n",
      "How do you naturally lighten your skin?\n",
      "[[0.96308887]]\n",
      "Why is my question repeatedly marked as needing improvement?\n"
     ]
    },
    {
     "name": "stdout",
     "output_type": "stream",
     "text": [
      "[[0.98209]]\n",
      "How company's divides shares between NSe and BSE?\n",
      "[[0.96572924]]\n",
      "What upgrades are expected with the next MacBook Pro with retina display and is there a firm release date?\n",
      "[[0.95762736]]\n",
      "Which is a good solar panel installation provider in Long Beach, California CA?\n",
      "[[1.]]\n",
      "What are some clever company names?\n",
      "[[0.95762736]]\n",
      "What are the flaws in Indian Education system?\n",
      "[[0.95506334]]\n",
      "What is the contribution of agriculture in India's national income in 2014-15?\n",
      "[[0.9717353]]\n",
      "What are the meanings of the following sentences from Moby Dick? (see details)\n",
      "[[0.96757495]]\n",
      "What does it mean if A guy text you a casual conversation in a week after he said he wanted to be just friends on the last date?\n",
      "[[0.9519369]]\n",
      "How can we find professors, PhD & masters students from universities of Brazil who would like to share their knowledge for free to record MOOCs?\n",
      "[[0.98159385]]\n",
      "Where does the large amount of energy in a fusion or fission reaction come from?\n",
      "[[0.9751672]]\n",
      "How does one become an extremely good writer?\n",
      "[[0.95762736]]\n",
      "If you read or ignore a message request on Facebook, will they know?\n",
      "[[0.9751672]]\n",
      "What's going on with my tonsil?\n",
      "[[0.96736854]]\n",
      "What are advantages of BITS over IIT and vice versa?\n",
      "[[0.9542979]]\n",
      "What are some ways to start a business?\n",
      "[[0.9602605]]\n",
      "How do I find freight forwarder?\n"
     ]
    }
   ],
   "source": [
    "question1 = 'Which food not emulsifiers?'\n",
    "for i in range(len(q1_data)):\n",
    "    if model.predict([word2vec(question1), np.array([q1_data[i]])], verbose=0)>0.95:\n",
    "        print(model.predict([word2vec(question1), np.array([q1_data[i]])], verbose=0))\n",
    "        print(names[i])"
   ]
  },
  {
   "cell_type": "code",
   "execution_count": 29,
   "metadata": {
    "scrolled": true
   },
   "outputs": [
    {
     "data": {
      "text/plain": [
       "0    How does the Surface Pro himself 4 compare wit...\n",
       "1    Should I have a hair transplant at age 24? How...\n",
       "Name: question1, dtype: object"
      ]
     },
     "execution_count": 29,
     "metadata": {},
     "output_type": "execute_result"
    }
   ],
   "source": [
    "test = pd.read_csv('test1.csv')\n",
    "test_q1 = test['question1'][:2]\n",
    "test_q2 = test['question2'][:2]\n"
   ]
  },
  {
   "cell_type": "code",
   "execution_count": 79,
   "metadata": {},
   "outputs": [
    {
     "data": {
      "text/plain": [
       "array([[0.590352]], dtype=float32)"
      ]
     },
     "execution_count": 79,
     "metadata": {},
     "output_type": "execute_result"
    }
   ],
   "source": [
    "model.predict([word2vec('Astrology: I am a Capricorn Sun Cap moon and cap rising...what does that say about me?'),word2vec('Im a triple Capricorn (Sun, Moon and ascendant in Capricorn) What does this say about me?')])"
   ]
  },
  {
   "cell_type": "code",
   "execution_count": null,
   "metadata": {},
   "outputs": [],
   "source": [
    "for i in range(len(Q1_train)):\n",
    "    if model.predict([word2vec(test_q2[1]), np.array([Q1_train[i]])], verbose=0)>0.95:\n",
    "        print(names[i])"
   ]
  },
  {
   "cell_type": "code",
   "execution_count": null,
   "metadata": {},
   "outputs": [],
   "source": []
  }
 ],
 "metadata": {
  "hide_input": false,
  "kernelspec": {
   "display_name": "Python 3",
   "language": "python",
   "name": "python3"
  },
  "language_info": {
   "codemirror_mode": {
    "name": "ipython",
    "version": 3
   },
   "file_extension": ".py",
   "mimetype": "text/x-python",
   "name": "python",
   "nbconvert_exporter": "python",
   "pygments_lexer": "ipython3",
   "version": "3.5.5"
  }
 },
 "nbformat": 4,
 "nbformat_minor": 2
}
