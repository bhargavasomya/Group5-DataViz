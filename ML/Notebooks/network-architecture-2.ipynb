{
 "cells": [
  {
   "cell_type": "markdown",
   "metadata": {},
   "source": [
    "# Quora question pairs: training"
   ]
  },
  {
   "cell_type": "markdown",
   "metadata": {},
   "source": [
    "## Import packages"
   ]
  },
  {
   "cell_type": "code",
   "execution_count": 3,
   "metadata": {},
   "outputs": [
    {
     "name": "stderr",
     "output_type": "stream",
     "text": [
      "Using TensorFlow backend.\n"
     ]
    }
   ],
   "source": [
    "%matplotlib inline\n",
    "from __future__ import print_function\n",
    "import numpy as np\n",
    "import pandas as pd\n",
    "import datetime, time, json\n",
    "from keras.models import Model\n",
    "from keras.layers import Input, TimeDistributed, dot, Dense, Lambda, Flatten, concatenate, Dropout, BatchNormalization\n",
    "from keras.layers.embeddings import Embedding\n",
    "from keras.regularizers import l2\n",
    "from keras.callbacks import Callback, ModelCheckpoint\n",
    "from keras import backend as K\n",
    "from sklearn.model_selection import train_test_split"
   ]
  },
  {
   "cell_type": "markdown",
   "metadata": {},
   "source": [
    "## Initialize global variables"
   ]
  },
  {
   "cell_type": "code",
   "execution_count": 10,
   "metadata": {},
   "outputs": [],
   "source": [
    "MAX_SEQUENCE_LENGTH = 25\n",
    "EMBEDDING_DIM = 300\n",
    "NB_EPOCHS = 25\n",
    "DROPOUT = 0.1\n",
    "BATCH_SIZE = 32"
   ]
  },
  {
   "cell_type": "markdown",
   "metadata": {},
   "source": [
    "## Load the dataset, embedding matrix"
   ]
  },
  {
   "cell_type": "code",
   "execution_count": 11,
   "metadata": {},
   "outputs": [],
   "source": [
    "q1_data = np.load(open('q1_train.npy', 'rb'))\n",
    "q2_data = np.load(open('q2_train.npy', 'rb'))\n",
    "labels = np.load(open('label_train.npy', 'rb'))\n",
    "word_embedding_matrix = np.load(open('word_embedding_matrix.npy', 'rb'))\n",
    "with open('nb_words.json', 'r') as f:\n",
    "    nb_words = json.load(f)['nb_words']"
   ]
  },
  {
   "cell_type": "markdown",
   "metadata": {},
   "source": [
    "## Partition the dataset into train and test sets"
   ]
  },
  {
   "cell_type": "code",
   "execution_count": 12,
   "metadata": {},
   "outputs": [],
   "source": [
    "X = np.stack((q1_data, q2_data), axis=1)\n",
    "y = labels\n",
    "X_train, X_test, y_train, y_test = train_test_split(X, y, test_size=0.2, random_state=1)\n",
    "Q1_train = X_train[:,0]\n",
    "Q2_train = X_train[:,1]\n",
    "Q1_test = X_test[:,0]\n",
    "Q2_test = X_test[:,1]"
   ]
  },
  {
   "cell_type": "markdown",
   "metadata": {},
   "source": [
    "## Define the model"
   ]
  },
  {
   "cell_type": "code",
   "execution_count": 22,
   "metadata": {},
   "outputs": [],
   "source": [
    "question1 = Input(shape=(25,))\n",
    "question2 = Input(shape=(25,))\n",
    "\n",
    "#create embedding using pre-trained GLOVE vectors\n",
    "\n",
    "embedding_layer = Embedding(word_embedding_matrix.shape[0],\n",
    "                            EMBEDDING_DIM,\n",
    "                            weights=[word_embedding_matrix],\n",
    "                            input_length=25,\n",
    "                            trainable=False)\n",
    "\n",
    "#create time distributed embedding for question 1 and question 2\n",
    "embedded_sequences_1 = embedding_layer(question1)\n",
    "time_distributed_1 = TimeDistributed(Dense(EMBEDDING_DIM, activation='relu'))(embedded_sequences_1)\n",
    "q1_time_dist = Lambda(lambda x: K.max(x, axis=1), output_shape=(EMBEDDING_DIM, ))(time_distributed_1)\n",
    "\n",
    "\n",
    "embedded_sequences_2 = embedding_layer(question2)\n",
    "time_distributed_2 = TimeDistributed(Dense(EMBEDDING_DIM, activation='relu'))(embedded_sequences_2)\n",
    "q2_time_dist = Lambda(lambda x: K.max(x, axis=1), output_shape=(EMBEDDING_DIM, ))(time_distributed_2)\n",
    "\n",
    "#Concatenate the representations for question 1 and 2\n",
    "concatenated = concatenate([q1_time_dist,q2_time_dist])\n",
    "\n",
    "#dense layer 1\n",
    "merged = Dense(200, activation='relu')(concatenated)\n",
    "#to avoid overfitting\n",
    "merged = Dropout(DROPOUT)(merged)\n",
    "merged = BatchNormalization()(merged)\n",
    "\n",
    "\n",
    "#dense layer 2\n",
    "merged = Dense(200, activation='relu')(merged)\n",
    "#to avoid overfitting\n",
    "merged = Dropout(DROPOUT)(merged)\n",
    "merged = BatchNormalization()(merged)\n",
    "\n",
    "#dense layer 3\n",
    "merged = Dense(200, activation='relu')(merged)\n",
    "#to avoid overfitting\n",
    "merged = Dropout(DROPOUT)(merged)\n",
    "merged = BatchNormalization()(merged)\n",
    "\n",
    "#dense layer 4\n",
    "merged = Dense(200, activation='relu')(merged)\n",
    "#to avoid overfitting\n",
    "merged = Dropout(DROPOUT)(merged)\n",
    "merged = BatchNormalization()(merged)\n",
    "\n",
    "#dense layer 5\n",
    "merged = Dense(200, activation='relu')(merged)\n",
    "#to avoid overfitting\n",
    "merged = Dropout(DROPOUT)(merged)\n",
    "merged = BatchNormalization()(merged)\n",
    "\n",
    "#dense layer 6\n",
    "merged = Dense(200, activation='relu')(merged)\n",
    "#to avoid overfitting\n",
    "merged = Dropout(DROPOUT)(merged)\n",
    "merged = BatchNormalization()(merged)\n",
    "\n",
    "\n",
    "#final prediction using sigmoid activation\n",
    "final_label = Dense(1, activation='sigmoid')(merged)\n",
    "\n",
    "model = Model(inputs=[question1,question2], outputs=final_label)\n",
    "model.compile(loss='binary_crossentropy', optimizer='adam', metrics=['accuracy'])"
   ]
  },
  {
   "cell_type": "code",
   "execution_count": 23,
   "metadata": {
    "scrolled": true
   },
   "outputs": [
    {
     "name": "stdout",
     "output_type": "stream",
     "text": [
      "__________________________________________________________________________________________________\n",
      "Layer (type)                    Output Shape         Param #     Connected to                     \n",
      "==================================================================================================\n",
      "input_5 (InputLayer)            (None, 25)           0                                            \n",
      "__________________________________________________________________________________________________\n",
      "input_6 (InputLayer)            (None, 25)           0                                            \n",
      "__________________________________________________________________________________________________\n",
      "embedding_5 (Embedding)         (None, 25, 300)      28947900    input_5[0][0]                    \n",
      "                                                                 input_6[0][0]                    \n",
      "__________________________________________________________________________________________________\n",
      "time_distributed_5 (TimeDistrib (None, 25, 300)      90300       embedding_5[0][0]                \n",
      "__________________________________________________________________________________________________\n",
      "time_distributed_6 (TimeDistrib (None, 25, 300)      90300       embedding_5[1][0]                \n",
      "__________________________________________________________________________________________________\n",
      "lambda_5 (Lambda)               (None, 300)          0           time_distributed_5[0][0]         \n",
      "__________________________________________________________________________________________________\n",
      "lambda_6 (Lambda)               (None, 300)          0           time_distributed_6[0][0]         \n",
      "__________________________________________________________________________________________________\n",
      "concatenate_3 (Concatenate)     (None, 600)          0           lambda_5[0][0]                   \n",
      "                                                                 lambda_6[0][0]                   \n",
      "__________________________________________________________________________________________________\n",
      "dense_21 (Dense)                (None, 200)          120200      concatenate_3[0][0]              \n",
      "__________________________________________________________________________________________________\n",
      "dropout_13 (Dropout)            (None, 200)          0           dense_21[0][0]                   \n",
      "__________________________________________________________________________________________________\n",
      "batch_normalization_13 (BatchNo (None, 200)          800         dropout_13[0][0]                 \n",
      "__________________________________________________________________________________________________\n",
      "dense_22 (Dense)                (None, 200)          40200       batch_normalization_13[0][0]     \n",
      "__________________________________________________________________________________________________\n",
      "dropout_14 (Dropout)            (None, 200)          0           dense_22[0][0]                   \n",
      "__________________________________________________________________________________________________\n",
      "batch_normalization_14 (BatchNo (None, 200)          800         dropout_14[0][0]                 \n",
      "__________________________________________________________________________________________________\n",
      "dense_23 (Dense)                (None, 200)          40200       batch_normalization_14[0][0]     \n",
      "__________________________________________________________________________________________________\n",
      "dropout_15 (Dropout)            (None, 200)          0           dense_23[0][0]                   \n",
      "__________________________________________________________________________________________________\n",
      "batch_normalization_15 (BatchNo (None, 200)          800         dropout_15[0][0]                 \n",
      "__________________________________________________________________________________________________\n",
      "dense_24 (Dense)                (None, 200)          40200       batch_normalization_15[0][0]     \n",
      "__________________________________________________________________________________________________\n",
      "dropout_16 (Dropout)            (None, 200)          0           dense_24[0][0]                   \n",
      "__________________________________________________________________________________________________\n",
      "batch_normalization_16 (BatchNo (None, 200)          800         dropout_16[0][0]                 \n",
      "__________________________________________________________________________________________________\n",
      "dense_25 (Dense)                (None, 200)          40200       batch_normalization_16[0][0]     \n",
      "__________________________________________________________________________________________________\n",
      "dropout_17 (Dropout)            (None, 200)          0           dense_25[0][0]                   \n",
      "__________________________________________________________________________________________________\n",
      "batch_normalization_17 (BatchNo (None, 200)          800         dropout_17[0][0]                 \n",
      "__________________________________________________________________________________________________\n",
      "dense_26 (Dense)                (None, 200)          40200       batch_normalization_17[0][0]     \n",
      "__________________________________________________________________________________________________\n",
      "dropout_18 (Dropout)            (None, 200)          0           dense_26[0][0]                   \n",
      "__________________________________________________________________________________________________\n",
      "batch_normalization_18 (BatchNo (None, 200)          800         dropout_18[0][0]                 \n",
      "__________________________________________________________________________________________________\n",
      "dense_27 (Dense)                (None, 1)            201         batch_normalization_18[0][0]     \n",
      "==================================================================================================\n",
      "Total params: 29,454,701\n",
      "Trainable params: 504,401\n",
      "Non-trainable params: 28,950,300\n",
      "__________________________________________________________________________________________________\n"
     ]
    }
   ],
   "source": [
    "model.summary()"
   ]
  },
  {
   "cell_type": "markdown",
   "metadata": {},
   "source": [
    "## Train the model, checkpointing weights with best validation accuracy"
   ]
  },
  {
   "cell_type": "code",
   "execution_count": 16,
   "metadata": {},
   "outputs": [
    {
     "name": "stdout",
     "output_type": "stream",
     "text": [
      "Train on 258743 samples, validate on 64686 samples\n",
      "Epoch 1/25\n",
      " - 189s - loss: 0.5593 - acc: 0.7127 - val_loss: 0.5279 - val_acc: 0.7218\n",
      "Epoch 2/25\n",
      " - 192s - loss: 0.5028 - acc: 0.7516 - val_loss: 0.4771 - val_acc: 0.7659\n",
      "Epoch 3/25\n",
      " - 184s - loss: 0.4736 - acc: 0.7691 - val_loss: 0.4720 - val_acc: 0.7695\n",
      "Epoch 4/25\n",
      " - 193s - loss: 0.4506 - acc: 0.7840 - val_loss: 0.4533 - val_acc: 0.7815\n",
      "Epoch 5/25\n",
      " - 172s - loss: 0.4302 - acc: 0.7971 - val_loss: 0.4431 - val_acc: 0.7877\n",
      "Epoch 6/25\n",
      " - 177s - loss: 0.4137 - acc: 0.8076 - val_loss: 0.4332 - val_acc: 0.7929\n",
      "Epoch 7/25\n",
      " - 180s - loss: 0.3968 - acc: 0.8178 - val_loss: 0.4323 - val_acc: 0.7941\n",
      "Epoch 8/25\n",
      " - 197s - loss: 0.3832 - acc: 0.8261 - val_loss: 0.4368 - val_acc: 0.7909\n",
      "Epoch 9/25\n",
      " - 185s - loss: 0.3739 - acc: 0.8315 - val_loss: 0.4374 - val_acc: 0.7921\n",
      "Epoch 10/25\n",
      " - 176s - loss: 0.3638 - acc: 0.8379 - val_loss: 0.4277 - val_acc: 0.7990\n",
      "Epoch 11/25\n",
      " - 191s - loss: 0.3541 - acc: 0.8428 - val_loss: 0.4207 - val_acc: 0.8023\n",
      "Epoch 12/25\n",
      " - 192s - loss: 0.3471 - acc: 0.8456 - val_loss: 0.4253 - val_acc: 0.7977\n",
      "Epoch 13/25\n",
      " - 189s - loss: 0.3394 - acc: 0.8506 - val_loss: 0.4251 - val_acc: 0.7977\n",
      "Epoch 14/25\n",
      " - 193s - loss: 0.3342 - acc: 0.8535 - val_loss: 0.4273 - val_acc: 0.8014\n",
      "Epoch 15/25\n",
      " - 183s - loss: 0.3318 - acc: 0.8550 - val_loss: 0.4575 - val_acc: 0.7787\n",
      "Epoch 16/25\n",
      " - 181s - loss: 0.3282 - acc: 0.8565 - val_loss: 0.4605 - val_acc: 0.7767\n",
      "Epoch 17/25\n",
      " - 185s - loss: 0.3196 - acc: 0.8620 - val_loss: 0.4243 - val_acc: 0.8016\n",
      "Epoch 18/25\n",
      " - 185s - loss: 0.3105 - acc: 0.8661 - val_loss: 0.4390 - val_acc: 0.7892\n",
      "Epoch 19/25\n",
      " - 180s - loss: 0.3041 - acc: 0.8688 - val_loss: 0.4449 - val_acc: 0.7883\n",
      "Epoch 20/25\n",
      " - 180s - loss: 0.2962 - acc: 0.8724 - val_loss: 0.4425 - val_acc: 0.7962\n",
      "Epoch 21/25\n",
      " - 180s - loss: 0.2914 - acc: 0.8754 - val_loss: 0.4263 - val_acc: 0.7990\n",
      "Epoch 22/25\n",
      " - 184s - loss: 0.2856 - acc: 0.8779 - val_loss: 0.5022 - val_acc: 0.7662\n",
      "Epoch 23/25\n",
      " - 188s - loss: 0.2823 - acc: 0.8792 - val_loss: 0.4222 - val_acc: 0.8059\n",
      "Epoch 24/25\n",
      " - 195s - loss: 0.2757 - acc: 0.8833 - val_loss: 0.4331 - val_acc: 0.7987\n",
      "Epoch 25/25\n",
      " - 201s - loss: 0.2710 - acc: 0.8850 - val_loss: 0.4536 - val_acc: 0.8020\n",
      "Minutes elapsed: 78.108636\n"
     ]
    }
   ],
   "source": [
    "#print(\"Starting training at\", datetime.datetime.now())\n",
    "t0 = time.time()\n",
    "\n",
    "#callback to store the best weights\n",
    "callbacks = [ModelCheckpoint('question_pairs_weights_network2.h5', monitor='val_acc', save_best_only=True)]\n",
    "\n",
    "history = model.fit([Q1_train, Q2_train],\n",
    "                    y_train,\n",
    "                    epochs=NB_EPOCHS,\n",
    "                    validation_split=0.2,\n",
    "                    verbose=2,\n",
    "                    batch_size=32,\n",
    "                    callbacks=callbacks)\n",
    "t1 = time.time()\n",
    "#print(\"Training ended at\", datetime.datetime.now())\n",
    "print(\"Minutes elapsed: %f\" % ((t1 - t0) / 60.))"
   ]
  },
  {
   "cell_type": "markdown",
   "metadata": {},
   "source": [
    "## Plot training and validation accuracy"
   ]
  },
  {
   "cell_type": "code",
   "execution_count": 17,
   "metadata": {},
   "outputs": [
    {
     "data": {
      "text/plain": [
       "<matplotlib.legend.Legend at 0x2b658f3f518>"
      ]
     },
     "execution_count": 17,
     "metadata": {},
     "output_type": "execute_result"
    },
    {
     "data": {
      "image/png": "[encoded data removed]",
      "text/plain": [
       "<Figure size 432x288 with 1 Axes>"
      ]
     },
     "metadata": {},
     "output_type": "display_data"
    }
   ],
   "source": [
    "import matplotlib.pyplot as plt\n",
    "# Data\n",
    "df=pd.DataFrame({'x': range(1,11), 'y1': np.random.randn(10), 'y2': np.random.randn(10)+range(1,11), 'y3': np.random.randn(10)+range(11,21) })\n",
    "acc = pd.DataFrame({'epoch': [ i + 1 for i in history.epoch ],\n",
    "                    'training': history.history['acc'],\n",
    "                    'validation': history.history['val_acc']}) \n",
    "# multiple line plot\n",
    "ax= plt.plot( 'epoch', 'training', data=acc,markersize=12, color='blue', linewidth=1)\n",
    "ax= plt.plot( 'epoch', 'validation', data=acc,markersize=12, color='red', linewidth=1)\n",
    "\n",
    "plt.legend()"
   ]
  },
  {
   "cell_type": "code",
   "execution_count": 18,
   "metadata": {},
   "outputs": [
    {
     "name": "stdout",
     "output_type": "stream",
     "text": [
      "Maximum accuracy at epoch 23 = 0.8059\n"
     ]
    }
   ],
   "source": [
    "max_val_acc, idx = max((val, idx) for (idx, val) in enumerate(history.history['val_acc']))\n",
    "print('Maximum accuracy at epoch', '{:d}'.format(idx+1), '=', '{:.4f}'.format(max_val_acc))"
   ]
  },
  {
   "cell_type": "markdown",
   "metadata": {},
   "source": [
    "## Evaluate the model  on the test partition"
   ]
  },
  {
   "cell_type": "code",
   "execution_count": 19,
   "metadata": {},
   "outputs": [
    {
     "name": "stdout",
     "output_type": "stream",
     "text": [
      "loss = 0.4219, accuracy = 0.8072\n"
     ]
    }
   ],
   "source": [
    "model.load_weights(MODEL_WEIGHTS_FILE)\n",
    "loss, accuracy = model.evaluate([Q1_test, Q2_test], y_test, verbose=0)\n",
    "print('loss = {0:.4f}, accuracy = {1:.4f}'.format(loss, accuracy))"
   ]
  },
  {
   "cell_type": "markdown",
   "metadata": {},
   "source": [
    "# Calculating AUC-ROC"
   ]
  },
  {
   "cell_type": "code",
   "execution_count": 20,
   "metadata": {},
   "outputs": [],
   "source": [
    "from sklearn.metrics import roc_auc_score,roc_curve\n",
    "import matplotlib.pyplot as plt\n",
    "pred_label = model.predict([Q1_test, Q2_test], verbose=0)"
   ]
  },
  {
   "cell_type": "code",
   "execution_count": 21,
   "metadata": {},
   "outputs": [
    {
     "data": {
      "image/png": "[encoded data removed]",
      "text/plain": [
       "<Figure size 432x288 with 1 Axes>"
      ]
     },
     "metadata": {},
     "output_type": "display_data"
    },
    {
     "name": "stdout",
     "output_type": "stream",
     "text": [
      "AUC score is =  0.8791619280188622\n"
     ]
    }
   ],
   "source": [
    "\n",
    "fpr, tpr, _ = roc_curve(y_test,  pred_label)\n",
    "auc = roc_auc_score(y_test, pred_label)\n",
    "plt.plot(fpr,tpr,label=\"data 1, auc=\"+str(auc))\n",
    "plt.legend(loc=4)\n",
    "plt.show()\n",
    "print('AUC score is = ', auc)"
   ]
  },
  {
   "cell_type": "markdown",
   "metadata": {},
   "source": [
    "# Testing individual sentences"
   ]
  },
  {
   "cell_type": "markdown",
   "metadata": {},
   "source": [
    "### Use this section as a server for the Web Application"
   ]
  },
  {
   "cell_type": "code",
   "execution_count": 7,
   "metadata": {},
   "outputs": [],
   "source": [
    "%matplotlib inline\n",
    "from __future__ import print_function\n",
    "import numpy as np\n",
    "import pandas as pd\n",
    "import json\n",
    "from keras.models import Model\n",
    "from keras.layers import Input, TimeDistributed, dot, Dense, Lambda, Flatten, concatenate, Dropout, BatchNormalization\n",
    "from keras.layers.embeddings import Embedding\n",
    "from keras.regularizers import l2\n",
    "from keras.callbacks import Callback, ModelCheckpoint\n",
    "from keras import backend as K\n",
    "import keras\n",
    "from sklearn.model_selection import train_test_split\n",
    "from keras.preprocessing.sequence import pad_sequences"
   ]
  },
  {
   "cell_type": "code",
   "execution_count": 8,
   "metadata": {},
   "outputs": [],
   "source": [
    "MAX_SEQUENCE_LENGTH = 25\n",
    "EMBEDDING_DIM = 300\n",
    "NB_EPOCHS = 25\n",
    "DROPOUT = 0.1\n",
    "BATCH_SIZE = 32\n",
    "\n",
    "with open('nb_words.json', 'r') as f:\n",
    "    nb_words = json.load(f)['nb_words']\n",
    "    \n",
    "word_embedding_matrix = np.load(open('word_embedding_matrix.npy', 'rb'))\n",
    "\n",
    "with open('word_index.pickle', 'rb') as handle:\n",
    "    word_indices = pickle.load(handle)"
   ]
  },
  {
   "cell_type": "code",
   "execution_count": 9,
   "metadata": {},
   "outputs": [
    {
     "name": "stdout",
     "output_type": "stream",
     "text": [
      "Tensor(\"dense_9/Sigmoid:0\", shape=(?, 1), dtype=float32)\n"
     ]
    }
   ],
   "source": [
    "question1 = Input(shape=(25,))\n",
    "question2 = Input(shape=(25,))\n",
    "\n",
    "#create embedding using pre-trained GLOVE vectors\n",
    "\n",
    "embedding_layer = Embedding(word_embedding_matrix.shape[0],\n",
    "                            EMBEDDING_DIM,\n",
    "                            weights=[word_embedding_matrix],\n",
    "                            input_length=25,\n",
    "                            trainable=False)\n",
    "\n",
    "#create time distributed embedding for question 1 and question 2\n",
    "embedded_sequences_1 = embedding_layer(question1)\n",
    "time_distributed_1 = TimeDistributed(Dense(EMBEDDING_DIM, activation='relu'))(embedded_sequences_1)\n",
    "q1_time_dist = Lambda(lambda x: K.max(x, axis=1), output_shape=(EMBEDDING_DIM, ))(time_distributed_1)\n",
    "\n",
    "\n",
    "embedded_sequences_2 = embedding_layer(question2)\n",
    "time_distributed_2 = TimeDistributed(Dense(EMBEDDING_DIM, activation='relu'))(embedded_sequences_2)\n",
    "q2_time_dist = Lambda(lambda x: K.max(x, axis=1), output_shape=(EMBEDDING_DIM, ))(time_distributed_2)\n",
    "\n",
    "#Concatenate the representations for question 1 and 2\n",
    "concatenated = concatenate([q1_time_dist,q2_time_dist])\n",
    "\n",
    "#dense layer 1\n",
    "merged = Dense(200, activation='relu')(concatenated)\n",
    "#to avoid overfitting\n",
    "merged = Dropout(DROPOUT)(merged)\n",
    "merged = BatchNormalization()(merged)\n",
    "\n",
    "\n",
    "#dense layer 2\n",
    "merged = Dense(200, activation='relu')(merged)\n",
    "#to avoid overfitting\n",
    "merged = Dropout(DROPOUT)(merged)\n",
    "merged = BatchNormalization()(merged)\n",
    "\n",
    "#dense layer 3\n",
    "merged = Dense(200, activation='relu')(merged)\n",
    "#to avoid overfitting\n",
    "merged = Dropout(DROPOUT)(merged)\n",
    "merged = BatchNormalization()(merged)\n",
    "\n",
    "#dense layer 4\n",
    "merged = Dense(200, activation='relu')(merged)\n",
    "#to avoid overfitting\n",
    "merged = Dropout(DROPOUT)(merged)\n",
    "merged = BatchNormalization()(merged)\n",
    "\n",
    "#dense layer 5\n",
    "merged = Dense(200, activation='relu')(merged)\n",
    "#to avoid overfitting\n",
    "merged = Dropout(DROPOUT)(merged)\n",
    "merged = BatchNormalization()(merged)\n",
    "\n",
    "#dense layer 6\n",
    "merged = Dense(200, activation='relu')(merged)\n",
    "#to avoid overfitting\n",
    "merged = Dropout(DROPOUT)(merged)\n",
    "merged = BatchNormalization()(merged)\n",
    "\n",
    "\n",
    "#final prediction using sigmoid activation\n",
    "final_label = Dense(1, activation='sigmoid')(merged)\n",
    "\n",
    "model = Model(inputs=[question1,question2], outputs=final_label)\n",
    "model.compile(loss='binary_crossentropy', optimizer='adam', metrics=['accuracy'])"
   ]
  },
  {
   "cell_type": "code",
   "execution_count": 10,
   "metadata": {},
   "outputs": [],
   "source": [
    "def word2vec(question):\n",
    "    word_seq = keras.preprocessing.text.text_to_word_sequence(question)\n",
    "    \n",
    "    vec_sequence = [word_indices[w] for w in word_seq]\n",
    "    \n",
    "    vec_sequence = pad_sequences([vec_sequence], maxlen= 25)\n",
    "    return vec_sequence\n",
    " "
   ]
  },
  {
   "cell_type": "markdown",
   "metadata": {},
   "source": [
    "#### Input questions"
   ]
  },
  {
   "cell_type": "code",
   "execution_count": 18,
   "metadata": {},
   "outputs": [],
   "source": [
    "question1 = 'Hi Im here waiting for you.where are you?'\n",
    "question2 = 'Hi what era is this?'\n",
    "\n",
    "model.load_weights(MODEL_WEIGHTS_FILE)\n",
    "predictions = model.predict([word2vec(question1), word2vec(question2)], verbose=0)\n",
    "\n"
   ]
  },
  {
   "cell_type": "code",
   "execution_count": 19,
   "metadata": {},
   "outputs": [
    {
     "data": {
      "text/plain": [
       "array([[0.0143868]], dtype=float32)"
      ]
     },
     "execution_count": 19,
     "metadata": {},
     "output_type": "execute_result"
    }
   ],
   "source": [
    "predictions"
   ]
  }
 ],
 "metadata": {
  "hide_input": false,
  "kernelspec": {
   "display_name": "Python 3",
   "language": "python",
   "name": "python3"
  },
  "language_info": {
   "codemirror_mode": {
    "name": "ipython",
    "version": 3
   },
   "file_extension": ".py",
   "mimetype": "text/x-python",
   "name": "python",
   "nbconvert_exporter": "python",
   "pygments_lexer": "ipython3",
   "version": "3.5.5"
  }
 },
 "nbformat": 4,
 "nbformat_minor": 2
}
