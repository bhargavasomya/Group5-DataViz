{
  "cells": [
    {
      "cell_type": "markdown",
      "metadata": {
        "pycharm": {}
      },
      "source": [
        "# Quora question pairs: training"
      ]
    },
    {
      "cell_type": "markdown",
      "metadata": {
        "pycharm": {}
      },
      "source": [
        "## Import packages"
      ]
    },
    {
      "cell_type": "code",
      "execution_count": 17,
      "metadata": {
        "pycharm": {}
      },
      "outputs": [],
      "source": "%matplotlib inline\nfrom __future__ import print_function\nimport numpy as np\nimport pandas as pd\nimport datetime, time, json\nfrom keras.models import Model\nfrom keras.layers import Input, TimeDistributed, Dense, Lambda, concatenate, Dropout, BatchNormalization\nfrom keras.layers.embeddings import Embedding\nfrom keras.regularizers import l2\nfrom keras.callbacks import Callback, ModelCheckpoint\nfrom keras import backend as K\nfrom sklearn.model_selection import train_test_split"
    },
    {
      "cell_type": "markdown",
      "metadata": {
        "pycharm": {}
      },
      "source": [
        "## Initialize global variables"
      ]
    },
    {
      "cell_type": "code",
      "execution_count": 26,
      "metadata": {
        "pycharm": {}
      },
      "outputs": [],
      "source": "Q1_TRAINING_DATA_FILE \u003d \u0027q1_train.npy\u0027\nQ2_TRAINING_DATA_FILE \u003d \u0027q2_train.npy\u0027\nLABEL_TRAINING_DATA_FILE \u003d \u0027label_train.npy\u0027\nWORD_EMBEDDING_MATRIX_FILE \u003d \u0027word_embedding_matrix.npy\u0027\nNB_WORDS_DATA_FILE \u003d \u0027nb_words.json\u0027\nMODEL_WEIGHTS_FILE \u003d \u0027question_pairs_weights_network1.h5\u0027\nMAX_SEQUENCE_LENGTH \u003d 25\nEMBEDDING_DIM \u003d 300\nVALIDATION_SPLIT \u003d 0.1\nTEST_SPLIT \u003d 0.1\nRNG_SEED \u003d 13371447\nNB_EPOCHS \u003d 25\nDROPOUT \u003d 0.1\nBATCH_SIZE \u003d 32"
    },
    {
      "cell_type": "markdown",
      "metadata": {
        "pycharm": {}
      },
      "source": [
        "## Load the dataset, embedding matrix and word count"
      ]
    },
    {
      "cell_type": "code",
      "execution_count": 19,
      "metadata": {
        "pycharm": {}
      },
      "outputs": [],
      "source": [
        "q1_data \u003d np.load(open(Q1_TRAINING_DATA_FILE, \u0027rb\u0027))\n",
        "q2_data \u003d np.load(open(Q2_TRAINING_DATA_FILE, \u0027rb\u0027))\n",
        "labels \u003d np.load(open(LABEL_TRAINING_DATA_FILE, \u0027rb\u0027))\n",
        "word_embedding_matrix \u003d np.load(open(WORD_EMBEDDING_MATRIX_FILE, \u0027rb\u0027))\n",
        "with open(NB_WORDS_DATA_FILE, \u0027r\u0027) as f:\n",
        "    nb_words \u003d json.load(f)[\u0027nb_words\u0027]"
      ]
    },
    {
      "cell_type": "markdown",
      "metadata": {
        "pycharm": {}
      },
      "source": [
        "## Partition the dataset into train and test sets"
      ]
    },
    {
      "cell_type": "code",
      "execution_count": 20,
      "metadata": {
        "pycharm": {}
      },
      "outputs": [],
      "source": [
        "X \u003d np.stack((q1_data, q2_data), axis\u003d1)\n",
        "y \u003d labels\n",
        "X_train, X_test, y_train, y_test \u003d train_test_split(X, y, test_size\u003dTEST_SPLIT, random_state\u003dRNG_SEED)\n",
        "Q1_train \u003d X_train[:,0]\n",
        "Q2_train \u003d X_train[:,1]\n",
        "Q1_test \u003d X_test[:,0]\n",
        "Q2_test \u003d X_test[:,1]"
      ]
    },
    {
      "cell_type": "markdown",
      "metadata": {
        "pycharm": {}
      },
      "source": [
        "## Define the model"
      ]
    },
    {
      "cell_type": "code",
      "execution_count": 21,
      "metadata": {
        "pycharm": {}
      },
      "outputs": [],
      "source": [
        "question1 \u003d Input(shape\u003d(MAX_SEQUENCE_LENGTH,))\n",
        "question2 \u003d Input(shape\u003d(MAX_SEQUENCE_LENGTH,))\n",
        "\n",
        "#layer 1 for question 1 to convert the sequence of vectors into dense representation\n",
        "q1 \u003d Embedding(nb_words + 1, \n",
        "                 EMBEDDING_DIM, \n",
        "                 weights\u003d[word_embedding_matrix], \n",
        "                 input_length\u003dMAX_SEQUENCE_LENGTH, \n",
        "                 trainable\u003dFalse)(question1)\n",
        "#We use time distributed layer to formulate the sequential nature of our words in the question\n",
        "q1 \u003d TimeDistributed(Dense(EMBEDDING_DIM, activation\u003d\u0027relu\u0027))(q1)\n",
        "q1 \u003d Lambda(lambda x: K.max(x, axis\u003d1), output_shape\u003d(EMBEDDING_DIM, ))(q1)\n",
        "\n",
        "#layer 1 for question 2 to convert the sequence of vectors into dense representation\n",
        "q2 \u003d Embedding(nb_words + 1, \n",
        "                 EMBEDDING_DIM, \n",
        "                 weights\u003d[word_embedding_matrix], \n",
        "                 input_length\u003dMAX_SEQUENCE_LENGTH, \n",
        "                 trainable\u003dFalse)(question2)\n",
        "#We use time distributed layer to formulate the sequential nature of our words in the question\n",
        "q2 \u003d TimeDistributed(Dense(EMBEDDING_DIM, activation\u003d\u0027relu\u0027))(q2)\n",
        "q2 \u003d Lambda(lambda x: K.max(x, axis\u003d1), output_shape\u003d(EMBEDDING_DIM, ))(q2)\n",
        "\n",
        "#Concatenate the representations for question 1 and 2\n",
        "merged \u003d concatenate([q1,q2])\n",
        "\n",
        "#dense layer 1\n",
        "merged \u003d Dense(200, activation\u003d\u0027relu\u0027)(merged)\n",
        "#to avoid overfitting\n",
        "merged \u003d Dropout(DROPOUT)(merged)\n",
        "merged \u003d BatchNormalization()(merged)\n",
        "\n",
        "#dense layer 2\n",
        "merged \u003d Dense(200, activation\u003d\u0027relu\u0027)(merged)\n",
        "#to avoid overfitting\n",
        "merged \u003d Dropout(DROPOUT)(merged)\n",
        "merged \u003d BatchNormalization()(merged)\n",
        "\n",
        "#dense layer 3\n",
        "merged \u003d Dense(200, activation\u003d\u0027relu\u0027)(merged)\n",
        "#to avoid overfitting\n",
        "merged \u003d Dropout(DROPOUT)(merged)\n",
        "merged \u003d BatchNormalization()(merged)\n",
        "\n",
        "#dense layer 4\n",
        "merged \u003d Dense(200, activation\u003d\u0027relu\u0027)(merged)\n",
        "#to avoid overfitting\n",
        "merged \u003d Dropout(DROPOUT)(merged)\n",
        "merged \u003d BatchNormalization()(merged)\n",
        "\n",
        "#final prediction using sigmoid activation\n",
        "is_duplicate \u003d Dense(1, activation\u003d\u0027sigmoid\u0027)(merged)\n",
        "\n",
        "model \u003d Model(inputs\u003d[question1,question2], outputs\u003dis_duplicate)\n",
        "model.compile(loss\u003d\u0027binary_crossentropy\u0027, optimizer\u003d\u0027adam\u0027, metrics\u003d[\u0027accuracy\u0027])"
      ]
    },
    {
      "cell_type": "code",
      "execution_count": 22,
      "metadata": {
        "pycharm": {}
      },
      "outputs": [
        {
          "name": "stdout",
          "output_type": "stream",
          "text": [
            "__________________________________________________________________________________________________\n",
            "Layer (type)                    Output Shape         Param #     Connected to                     \n",
            "\u003d\u003d\u003d\u003d\u003d\u003d\u003d\u003d\u003d\u003d\u003d\u003d\u003d\u003d\u003d\u003d\u003d\u003d\u003d\u003d\u003d\u003d\u003d\u003d\u003d\u003d\u003d\u003d\u003d\u003d\u003d\u003d\u003d\u003d\u003d\u003d\u003d\u003d\u003d\u003d\u003d\u003d\u003d\u003d\u003d\u003d\u003d\u003d\u003d\u003d\u003d\u003d\u003d\u003d\u003d\u003d\u003d\u003d\u003d\u003d\u003d\u003d\u003d\u003d\u003d\u003d\u003d\u003d\u003d\u003d\u003d\u003d\u003d\u003d\u003d\u003d\u003d\u003d\u003d\u003d\u003d\u003d\u003d\u003d\u003d\u003d\u003d\u003d\u003d\u003d\u003d\u003d\u003d\u003d\u003d\u003d\u003d\u003d\n",
            "input_9 (InputLayer)            (None, 25)           0                                            \n",
            "__________________________________________________________________________________________________\n",
            "input_10 (InputLayer)           (None, 25)           0                                            \n",
            "__________________________________________________________________________________________________\n",
            "embedding_7 (Embedding)         (None, 25, 300)      28947900    input_9[0][0]                    \n",
            "__________________________________________________________________________________________________\n",
            "embedding_8 (Embedding)         (None, 25, 300)      28947900    input_10[0][0]                   \n",
            "__________________________________________________________________________________________________\n",
            "time_distributed_7 (TimeDistrib (None, 25, 300)      90300       embedding_7[0][0]                \n",
            "__________________________________________________________________________________________________\n",
            "time_distributed_8 (TimeDistrib (None, 25, 300)      90300       embedding_8[0][0]                \n",
            "__________________________________________________________________________________________________\n",
            "lambda_7 (Lambda)               (None, 300)          0           time_distributed_7[0][0]         \n",
            "__________________________________________________________________________________________________\n",
            "lambda_8 (Lambda)               (None, 300)          0           time_distributed_8[0][0]         \n",
            "__________________________________________________________________________________________________\n",
            "concatenate_4 (Concatenate)     (None, 600)          0           lambda_7[0][0]                   \n",
            "                                                                 lambda_8[0][0]                   \n",
            "__________________________________________________________________________________________________\n",
            "dense_24 (Dense)                (None, 200)          120200      concatenate_4[0][0]              \n",
            "__________________________________________________________________________________________________\n",
            "dropout_13 (Dropout)            (None, 200)          0           dense_24[0][0]                   \n",
            "__________________________________________________________________________________________________\n",
            "batch_normalization_13 (BatchNo (None, 200)          800         dropout_13[0][0]                 \n",
            "__________________________________________________________________________________________________\n",
            "dense_25 (Dense)                (None, 200)          40200       batch_normalization_13[0][0]     \n",
            "__________________________________________________________________________________________________\n",
            "dropout_14 (Dropout)            (None, 200)          0           dense_25[0][0]                   \n",
            "__________________________________________________________________________________________________\n",
            "batch_normalization_14 (BatchNo (None, 200)          800         dropout_14[0][0]                 \n",
            "__________________________________________________________________________________________________\n",
            "dense_26 (Dense)                (None, 200)          40200       batch_normalization_14[0][0]     \n",
            "__________________________________________________________________________________________________\n",
            "dropout_15 (Dropout)            (None, 200)          0           dense_26[0][0]                   \n",
            "__________________________________________________________________________________________________\n",
            "batch_normalization_15 (BatchNo (None, 200)          800         dropout_15[0][0]                 \n",
            "__________________________________________________________________________________________________\n",
            "dense_27 (Dense)                (None, 200)          40200       batch_normalization_15[0][0]     \n",
            "__________________________________________________________________________________________________\n",
            "dropout_16 (Dropout)            (None, 200)          0           dense_27[0][0]                   \n",
            "__________________________________________________________________________________________________\n",
            "batch_normalization_16 (BatchNo (None, 200)          800         dropout_16[0][0]                 \n",
            "__________________________________________________________________________________________________\n",
            "dense_28 (Dense)                (None, 1)            201         batch_normalization_16[0][0]     \n",
            "\u003d\u003d\u003d\u003d\u003d\u003d\u003d\u003d\u003d\u003d\u003d\u003d\u003d\u003d\u003d\u003d\u003d\u003d\u003d\u003d\u003d\u003d\u003d\u003d\u003d\u003d\u003d\u003d\u003d\u003d\u003d\u003d\u003d\u003d\u003d\u003d\u003d\u003d\u003d\u003d\u003d\u003d\u003d\u003d\u003d\u003d\u003d\u003d\u003d\u003d\u003d\u003d\u003d\u003d\u003d\u003d\u003d\u003d\u003d\u003d\u003d\u003d\u003d\u003d\u003d\u003d\u003d\u003d\u003d\u003d\u003d\u003d\u003d\u003d\u003d\u003d\u003d\u003d\u003d\u003d\u003d\u003d\u003d\u003d\u003d\u003d\u003d\u003d\u003d\u003d\u003d\u003d\u003d\u003d\u003d\u003d\u003d\u003d\n",
            "Total params: 58,320,601\n",
            "Trainable params: 423,201\n",
            "Non-trainable params: 57,897,400\n",
            "__________________________________________________________________________________________________\n"
          ]
        }
      ],
      "source": [
        "model.summary()"
      ]
    },
    {
      "cell_type": "markdown",
      "metadata": {
        "pycharm": {}
      },
      "source": [
        "## Train the model, checkpointing weights with best validation accuracy"
      ]
    },
    {
      "cell_type": "code",
      "execution_count": 24,
      "metadata": {
        "pycharm": {}
      },
      "outputs": [
        {
          "name": "stdout",
          "output_type": "stream",
          "text": [
            "Starting training at 2019-03-28 01:08:24.731394\n",
            "Train on 327472 samples, validate on 36386 samples\n",
            "Epoch 1/25\n",
            " - 193s - loss: 0.4246 - acc: 0.7999 - val_loss: 0.4477 - val_acc: 0.7865\n",
            "Epoch 2/25\n",
            " - 209s - loss: 0.4075 - acc: 0.8106 - val_loss: 0.4368 - val_acc: 0.7887\n",
            "Epoch 3/25\n",
            " - 215s - loss: 0.3939 - acc: 0.8192 - val_loss: 0.4236 - val_acc: 0.7962\n",
            "Epoch 4/25\n",
            " - 208s - loss: 0.3813 - acc: 0.8259 - val_loss: 0.4166 - val_acc: 0.8009\n",
            "Epoch 5/25\n",
            " - 216s - loss: 0.3686 - acc: 0.8333 - val_loss: 0.4247 - val_acc: 0.7940\n",
            "Epoch 6/25\n",
            " - 214s - loss: 0.3584 - acc: 0.8389 - val_loss: 0.4220 - val_acc: 0.7993\n",
            "Epoch 7/25\n",
            " - 215s - loss: 0.3493 - acc: 0.8441 - val_loss: 0.4250 - val_acc: 0.7999\n",
            "Epoch 8/25\n",
            " - 213s - loss: 0.3423 - acc: 0.8481 - val_loss: 0.4153 - val_acc: 0.8042\n",
            "Epoch 9/25\n",
            " - 209s - loss: 0.3339 - acc: 0.8522 - val_loss: 0.4550 - val_acc: 0.7718\n",
            "Epoch 10/25\n",
            " - 212s - loss: 0.3286 - acc: 0.8557 - val_loss: 0.4155 - val_acc: 0.8055\n",
            "Epoch 11/25\n",
            " - 206s - loss: 0.3219 - acc: 0.8591 - val_loss: 0.4153 - val_acc: 0.8049\n",
            "Epoch 12/25\n",
            " - 209s - loss: 0.3181 - acc: 0.8610 - val_loss: 0.4358 - val_acc: 0.7982\n",
            "Epoch 13/25\n",
            " - 216s - loss: 0.3136 - acc: 0.8630 - val_loss: 0.4155 - val_acc: 0.8051\n",
            "Epoch 14/25\n",
            " - 215s - loss: 0.3085 - acc: 0.8656 - val_loss: 0.4271 - val_acc: 0.7983\n",
            "Epoch 15/25\n",
            " - 214s - loss: 0.3019 - acc: 0.8688 - val_loss: 0.4166 - val_acc: 0.8029\n",
            "Epoch 16/25\n",
            " - 213s - loss: 0.2996 - acc: 0.8698 - val_loss: 0.4261 - val_acc: 0.8065\n",
            "Epoch 17/25\n",
            " - 211s - loss: 0.2955 - acc: 0.8726 - val_loss: 0.4197 - val_acc: 0.8056\n",
            "Epoch 18/25\n",
            " - 211s - loss: 0.2900 - acc: 0.8756 - val_loss: 0.4193 - val_acc: 0.8031\n",
            "Epoch 19/25\n",
            " - 215s - loss: 0.2857 - acc: 0.8768 - val_loss: 0.4417 - val_acc: 0.8063\n",
            "Epoch 20/25\n",
            " - 210s - loss: 0.2829 - acc: 0.8784 - val_loss: 0.4192 - val_acc: 0.8097\n",
            "Epoch 21/25\n",
            " - 210s - loss: 0.2788 - acc: 0.8804 - val_loss: 0.4277 - val_acc: 0.8010\n",
            "Epoch 22/25\n",
            " - 212s - loss: 0.2764 - acc: 0.8812 - val_loss: 0.4303 - val_acc: 0.8071\n",
            "Epoch 23/25\n",
            " - 212s - loss: 0.2715 - acc: 0.8838 - val_loss: 0.4349 - val_acc: 0.8025\n",
            "Epoch 24/25\n",
            " - 216s - loss: 0.2692 - acc: 0.8849 - val_loss: 0.4352 - val_acc: 0.7987\n",
            "Epoch 25/25\n",
            " - 212s - loss: 0.2633 - acc: 0.8870 - val_loss: 0.4215 - val_acc: 0.8068\n",
            "Training ended at 2019-03-28 02:36:51.479775\n",
            "Minutes elapsed: 88.445806\n"
          ]
        }
      ],
      "source": [
        "print(\"Starting training at\", datetime.datetime.now())\n",
        "t0 \u003d time.time()\n",
        "\n",
        "#callback to store the best weights\n",
        "callbacks \u003d [ModelCheckpoint(MODEL_WEIGHTS_FILE, monitor\u003d\u0027val_acc\u0027, save_best_only\u003dTrue)]\n",
        "\n",
        "history \u003d model.fit([Q1_train, Q2_train],\n",
        "                    y_train,\n",
        "                    epochs\u003dNB_EPOCHS,\n",
        "                    validation_split\u003dVALIDATION_SPLIT,\n",
        "                    verbose\u003d2,\n",
        "                    batch_size\u003dBATCH_SIZE,\n",
        "                    callbacks\u003dcallbacks)\n",
        "t1 \u003d time.time()\n",
        "print(\"Training ended at\", datetime.datetime.now())\n",
        "print(\"Minutes elapsed: %f\" % ((t1 - t0) / 60.))"
      ]
    },
    {
      "cell_type": "markdown",
      "metadata": {
        "pycharm": {}
      },
      "source": [
        "## Plot training and validation accuracy"
      ]
    },
    {
      "cell_type": "code",
      "execution_count": 24,
      "metadata": {
        "pycharm": {}
      },
      "outputs": [
        {
          "data": {
            "text/plain": [
              "\u003cmatplotlib.legend.Legend at 0x25c8efbd7b8\u003e"
            ]
          },
          "execution_count": 24,
          "metadata": {},
          "output_type": "execute_result"
        },
        {
          "data": {
            "image/png": "[encoded data removed]",
            "text/plain": [
              "\u003cFigure size 432x288 with 1 Axes\u003e"
            ]
          },
          "metadata": {},
          "output_type": "display_data"
        }
      ],
      "source": [
        "import matplotlib.pyplot as plt\n",
        "# Data\n",
        "df\u003dpd.DataFrame({\u0027x\u0027: range(1,11), \u0027y1\u0027: np.random.randn(10), \u0027y2\u0027: np.random.randn(10)+range(1,11), \u0027y3\u0027: np.random.randn(10)+range(11,21) })\n",
        "acc \u003d pd.DataFrame({\u0027epoch\u0027: [ i + 1 for i in history.epoch ],\n",
        "                    \u0027training\u0027: history.history[\u0027acc\u0027],\n",
        "                    \u0027validation\u0027: history.history[\u0027val_acc\u0027]}) \n",
        "# multiple line plot\n",
        "ax\u003d plt.plot( \u0027epoch\u0027, \u0027training\u0027, data\u003dacc,markersize\u003d12, color\u003d\u0027blue\u0027, linewidth\u003d4)\n",
        "ax\u003d plt.plot( \u0027epoch\u0027, \u0027validation\u0027, data\u003dacc,markersize\u003d12, color\u003d\u0027red\u0027, linewidth\u003d4)\n",
        "\n",
        "plt.legend()"
      ]
    },
    {
      "cell_type": "markdown",
      "metadata": {
        "pycharm": {}
      },
      "source": [
        "## Print best validation accuracy and epoch"
      ]
    },
    {
      "cell_type": "code",
      "execution_count": 12,
      "metadata": {
        "pycharm": {}
      },
      "outputs": [
        {
          "name": "stdout",
          "output_type": "stream",
          "text": [
            "Maximum accuracy at epoch 22 \u003d 0.8086\n"
          ]
        }
      ],
      "source": [
        "max_val_acc, idx \u003d max((val, idx) for (idx, val) in enumerate(history.history[\u0027val_acc\u0027]))\n",
        "print(\u0027Maximum accuracy at epoch\u0027, \u0027{:d}\u0027.format(idx+1), \u0027\u003d\u0027, \u0027{:.4f}\u0027.format(max_val_acc))"
      ]
    },
    {
      "cell_type": "markdown",
      "metadata": {
        "pycharm": {}
      },
      "source": [
        "## Evaluate the model with best validation accuracy on the test partition"
      ]
    },
    {
      "cell_type": "code",
      "execution_count": 3,
      "metadata": {
        "scrolled": false,
        "pycharm": {}
      },
      "outputs": [],
      "source": [
        "model.load_weights(MODEL_WEIGHTS_FILE)\n",
        "loss, accuracy \u003d model.evaluate([Q1_test, Q2_test], y_test, verbose\u003d0)\n",
        "print(\u0027loss \u003d {0:.4f}, accuracy \u003d {1:.4f}\u0027.format(loss, accuracy))"
      ]
    },
    {
      "cell_type": "markdown",
      "metadata": {
        "pycharm": {}
      },
      "source": [
        "## Testing individual sentences"
      ]
    },
    {
      "cell_type": "markdown",
      "metadata": {
        "pycharm": {}
      },
      "source": [
        "### Use this section as a server for the Web Application"
      ]
    },
    {
      "cell_type": "code",
      "execution_count": 42,
      "metadata": {
        "pycharm": {}
      },
      "outputs": [],
      "source": [
        "%matplotlib inline\n",
        "from __future__ import print_function\n",
        "import numpy as np\n",
        "import pandas as pd\n",
        "import json\n",
        "from keras.models import Model\n",
        "from keras.layers import Input, TimeDistributed, dot, Dense, Lambda, Flatten, concatenate, Dropout, BatchNormalization\n",
        "from keras.layers.embeddings import Embedding\n",
        "from keras.regularizers import l2\n",
        "from keras.callbacks import Callback, ModelCheckpoint\n",
        "from keras import backend as K\n",
        "import keras\n",
        "from sklearn.model_selection import train_test_split\n",
        "from keras.preprocessing.sequence import pad_sequences"
      ]
    },
    {
      "cell_type": "code",
      "execution_count": 36,
      "metadata": {
        "pycharm": {}
      },
      "outputs": [],
      "source": [
        "WORD_EMBEDDING_MATRIX_FILE \u003d \u0027word_embedding_matrix.npy\u0027\n",
        "NB_WORDS_DATA_FILE \u003d \u0027nb_words.json\u0027\n",
        "MODEL_WEIGHTS_FILE \u003d \u0027question_pairs_weights_network1.h5\u0027\n",
        "MAX_SEQUENCE_LENGTH \u003d 25\n",
        "EMBEDDING_DIM \u003d 300\n",
        "VALIDATION_SPLIT \u003d 0.1\n",
        "TEST_SPLIT \u003d 0.1\n",
        "RNG_SEED \u003d 13371447\n",
        "NB_EPOCHS \u003d 25\n",
        "DROPOUT \u003d 0.1\n",
        "BATCH_SIZE \u003d 32\n",
        "\n",
        "with open(NB_WORDS_DATA_FILE, \u0027r\u0027) as f:\n",
        "    nb_words \u003d json.load(f)[\u0027nb_words\u0027]\n",
        "    \n",
        "word_embedding_matrix \u003d np.load(open(WORD_EMBEDDING_MATRIX_FILE, \u0027rb\u0027))\n",
        "\n",
        "with open(\u0027word_index.pickle\u0027, \u0027rb\u0027) as handle:\n",
        "    word_indices \u003d pickle.load(handle)"
      ]
    },
    {
      "cell_type": "code",
      "execution_count": 37,
      "metadata": {
        "pycharm": {}
      },
      "outputs": [],
      "source": [
        "question1 \u003d Input(shape\u003d(MAX_SEQUENCE_LENGTH,))\n",
        "question2 \u003d Input(shape\u003d(MAX_SEQUENCE_LENGTH,))\n",
        "\n",
        "#layer 1 for question 1 to convert the sequence of vectors into dense representation\n",
        "q1 \u003d Embedding(nb_words + 1, \n",
        "                 EMBEDDING_DIM, \n",
        "                 weights\u003d[word_embedding_matrix], \n",
        "                 input_length\u003dMAX_SEQUENCE_LENGTH, \n",
        "                 trainable\u003dFalse)(question1)\n",
        "#We use time distributed layer to formulate the sequential nature of our words in the question\n",
        "q1 \u003d TimeDistributed(Dense(EMBEDDING_DIM, activation\u003d\u0027relu\u0027))(q1)\n",
        "q1 \u003d Lambda(lambda x: K.max(x, axis\u003d1), output_shape\u003d(EMBEDDING_DIM, ))(q1)\n",
        "\n",
        "#layer 1 for question 2 to convert the sequence of vectors into dense representation\n",
        "q2 \u003d Embedding(nb_words + 1, \n",
        "                 EMBEDDING_DIM, \n",
        "                 weights\u003d[word_embedding_matrix], \n",
        "                 input_length\u003dMAX_SEQUENCE_LENGTH, \n",
        "                 trainable\u003dFalse)(question2)\n",
        "#We use time distributed layer to formulate the sequential nature of our words in the question\n",
        "q2 \u003d TimeDistributed(Dense(EMBEDDING_DIM, activation\u003d\u0027relu\u0027))(q2)\n",
        "q2 \u003d Lambda(lambda x: K.max(x, axis\u003d1), output_shape\u003d(EMBEDDING_DIM, ))(q2)\n",
        "\n",
        "#Concatenate the representations for question 1 and 2\n",
        "merged \u003d concatenate([q1,q2])\n",
        "\n",
        "#dense layer 1\n",
        "merged \u003d Dense(200, activation\u003d\u0027relu\u0027)(merged)\n",
        "#to avoid overfitting\n",
        "merged \u003d Dropout(DROPOUT)(merged)\n",
        "merged \u003d BatchNormalization()(merged)\n",
        "\n",
        "#dense layer 2\n",
        "merged \u003d Dense(200, activation\u003d\u0027relu\u0027)(merged)\n",
        "#to avoid overfitting\n",
        "merged \u003d Dropout(DROPOUT)(merged)\n",
        "merged \u003d BatchNormalization()(merged)\n",
        "\n",
        "#dense layer 3\n",
        "merged \u003d Dense(200, activation\u003d\u0027relu\u0027)(merged)\n",
        "#to avoid overfitting\n",
        "merged \u003d Dropout(DROPOUT)(merged)\n",
        "merged \u003d BatchNormalization()(merged)\n",
        "\n",
        "#dense layer 4\n",
        "merged \u003d Dense(200, activation\u003d\u0027relu\u0027)(merged)\n",
        "#to avoid overfitting\n",
        "merged \u003d Dropout(DROPOUT)(merged)\n",
        "merged \u003d BatchNormalization()(merged)\n",
        "\n",
        "#final prediction using sigmoid activation\n",
        "is_duplicate \u003d Dense(1, activation\u003d\u0027sigmoid\u0027)(merged)\n",
        "\n",
        "model \u003d Model(inputs\u003d[question1,question2], outputs\u003dis_duplicate)\n",
        "model.compile(loss\u003d\u0027binary_crossentropy\u0027, optimizer\u003d\u0027adam\u0027, metrics\u003d[\u0027accuracy\u0027])"
      ]
    },
    {
      "cell_type": "code",
      "execution_count": 32,
      "metadata": {
        "pycharm": {}
      },
      "outputs": [
        {
          "name": "stdout",
          "output_type": "stream",
          "text": [
            "loss \u003d 0.4180, accuracy \u003d 0.8118\n"
          ]
        }
      ],
      "source": [
        "model.load_weights(MODEL_WEIGHTS_FILE)\n",
        "loss, accuracy \u003d model.evaluate([Q1_test, Q2_test], y_test, verbose\u003d0)\n",
        "print(\u0027loss \u003d {0:.4f}, accuracy \u003d {1:.4f}\u0027.format(loss, accuracy))"
      ]
    },
    {
      "cell_type": "code",
      "execution_count": 38,
      "metadata": {
        "pycharm": {}
      },
      "outputs": [],
      "source": [
        "def word2vec(question):\n",
        "    word_seq \u003d keras.preprocessing.text.text_to_word_sequence(question)\n",
        "    \n",
        "    vec_sequence \u003d [word_indices[w] for w in word_seq]\n",
        "    \n",
        "    vec_sequence \u003d pad_sequences([vec_sequence], maxlen\u003d 25)\n",
        "    return vec_sequence\n",
        " "
      ]
    },
    {
      "cell_type": "code",
      "execution_count": 45,
      "metadata": {
        "pycharm": {}
      },
      "outputs": [
        {
          "data": {
            "text/plain": [
              "array([[0.00376096]], dtype\u003dfloat32)"
            ]
          },
          "execution_count": 45,
          "metadata": {},
          "output_type": "execute_result"
        }
      ],
      "source": [
        "question1 \u003d \u0027Hi the basketball league is fraud?\u0027\n",
        "question2 \u003d \u0027Hi what era is this?\u0027\n",
        "\n",
        "model.load_weights(MODEL_WEIGHTS_FILE)\n",
        "predictions \u003d model.predict([word2vec(question1), word2vec(question2)], verbose\u003d0)\n",
        "\n",
        "predictions"
      ]
    }
  ],
  "metadata": {
    "hide_input": false,
    "kernelspec": {
      "display_name": "Python 3",
      "language": "python",
      "name": "python3"
    },
    "language_info": {
      "codemirror_mode": {
        "name": "ipython",
        "version": 3
      },
      "file_extension": ".py",
      "mimetype": "text/x-python",
      "name": "python",
      "nbconvert_exporter": "python",
      "pygments_lexer": "ipython3",
      "version": "3.5.5"
    }
  },
  "nbformat": 4,
  "nbformat_minor": 2
}